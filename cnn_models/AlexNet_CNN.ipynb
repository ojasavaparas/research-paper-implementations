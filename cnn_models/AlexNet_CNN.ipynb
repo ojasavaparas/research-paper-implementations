{
 "cells": [
  {
   "cell_type": "code",
   "execution_count": 7,
   "metadata": {
    "collapsed": true
   },
   "outputs": [],
   "source": [
    "from __future__ import absolute_import\n",
    "from __future__ import division\n",
    "from __future__ import print_function"
   ]
  },
  {
   "cell_type": "code",
   "execution_count": 8,
   "metadata": {
    "collapsed": true
   },
   "outputs": [],
   "source": [
    "import tensorflow as tf"
   ]
  },
  {
   "cell_type": "code",
   "execution_count": 9,
   "metadata": {
    "collapsed": false
   },
   "outputs": [],
   "source": [
    "slim = tf.contrib.slim\n",
    "trunc_normal = lambda stddev: tf.truncated_normal_initializer(0.0,stddev)"
   ]
  },
  {
   "cell_type": "code",
   "execution_count": 10,
   "metadata": {
    "collapsed": false
   },
   "outputs": [],
   "source": [
    "def alexnet_scope(weight_decay=0.0005):\n",
    "    with slim.arg_scope([slim.conv2d,slim.fully_connected],\n",
    "                       activation_fn = tf.nn.relu,\n",
    "                       biases_initializer = tf.constant_initializer(0.1),\n",
    "                       weights_regularizer=slim.l2_regularizer(weight_decay)):\n",
    "        with slim.arg_scope([slim.conv2d],padding='SAME'):\n",
    "            with slim.arg_scope([slim.max_pool2d],padding='VALID') as arg_sc:\n",
    "                return arg_sc\n",
    "\n",
    "def alex_net(inputs,\n",
    "            num_classes=1000,\n",
    "            is_training=True,\n",
    "            dropout_keep_prob=0.5,\n",
    "            spatial_squeeze=True,\n",
    "            scope='alex_net'):\n",
    "    with tf.variable_scope(scope, 'alex_net',[inputs]) as sc:\n",
    "        end_point_collection = sc.name + '_end_points'\n",
    "        with slim.arg_scope([slim.conv2d, slim.fully_connected, slim.max_pool2d],\n",
    "                           output_collections=[end_point_collections]):\n",
    "            net = slim.conv2d(inputs, 64,[11,11], 4, padding='VALID',scope='conv1')\n",
    "            net = slim.max_pool2d(net,[3,3],2,scope='pool1')\n",
    "            net = slim.conv2d(net, 192,[5,5], scope='conv2')\n",
    "            net = slim.max_pool2d(net,[3,3],2,scope='pool2')\n",
    "            net = slim.conv2d(net, 384, [3,3],scope='conv3')\n",
    "            net = slim.conv2d(net, 384, [3,3],scope='conv4')\n",
    "            net = slim.conv2d(net, 256, [3,3],scope='conv5')\n",
    "            net = slim.max_pool2d(net,[3,3],2,scope='pool3')\n",
    "            \n",
    "            with slim.arg_scope([slim.conv2d],\n",
    "                               weight_initializer=trunc_normal(0.005),\n",
    "                               biases_initializer=tf.constant_intializer(0.1)):\n",
    "                net = slim.conv2d(net, 4096,[5,5], padding='VALID',scope='fc6')\n",
    "                net = slim.dropout(net, dropout_keep_prob, is_training=is_training,scope='dropout6')\n",
    "                net = slim.conv2d(net, 4096,[1,1], scope='fc7')\n",
    "                net = slim.dropout(net, dropout_keep_prob, is_training=is_training,scope='dropout7')\n",
    "                net = slim.conv2d(net, num_classes,[1,1],\n",
    "                                 activation_fn=None,\n",
    "                                 initializer_fn=None,\n",
    "                                 biases_initializer=tf.zeros_initializer(),\n",
    "                                 scope='fc8')\n",
    "                end_points = slim.utils.convert_collection_to_dict(end_points_collection)\n",
    "                if spatial_squeeze:\n",
    "                    net = tf.squeeze(net, [1, 2], name='fc8/squeezed')\n",
    "                    end_points[sc.name + '/fc8'] = net\n",
    "                    return net, end_points\n",
    "       \n",
    "    alex_net.default_image_size=224"
   ]
  },
  {
   "cell_type": "code",
   "execution_count": null,
   "metadata": {
    "collapsed": true
   },
   "outputs": [],
   "source": []
  }
 ],
 "metadata": {
  "kernelspec": {
   "display_name": "Python 2",
   "language": "python",
   "name": "python2"
  },
  "language_info": {
   "codemirror_mode": {
    "name": "ipython",
    "version": 2
   },
   "file_extension": ".py",
   "mimetype": "text/x-python",
   "name": "python",
   "nbconvert_exporter": "python",
   "pygments_lexer": "ipython2",
   "version": "2.7.13"
  }
 },
 "nbformat": 4,
 "nbformat_minor": 2
}
