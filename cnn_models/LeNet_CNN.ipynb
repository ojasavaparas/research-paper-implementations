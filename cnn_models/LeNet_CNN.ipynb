{
 "cells": [
  {
   "cell_type": "code",
   "execution_count": 2,
   "metadata": {
    "collapsed": false
   },
   "outputs": [],
   "source": [
    "from __future__ import absolute_import\n",
    "from __future__ import division\n",
    "from __future__ import print_function\n",
    "\n",
    "import tensorflow as tf\n",
    "\n",
    "slim = tf.contrib.slim\n",
    "\n",
    "\n",
    "def lenet(images, num_classes=10, is_training=False,\n",
    "          dropout_keep_prob=0.5,\n",
    "          prediction_fn=slim.softmax,\n",
    "          scope='LeNet'):\n",
    "    end_points = {}\n",
    "\n",
    "    with tf.variable_scope(scope, 'LeNet', [images, num_classes]):\n",
    "        net = slim.conv2d(images, 32, [5, 5], scope='conv1')\n",
    "        net = slim.max_pool2d(net, [2, 2], 2, scope='pool1')\n",
    "        net = slim.conv2d(net, 64, [5, 5], scope='conv2')\n",
    "        net = slim.max_pool2d(net, [2, 2], 2, scope='pool2')\n",
    "        net = slim.flatten(net)\n",
    "        end_points['Flatten'] = net\n",
    "\n",
    "        net = slim.fully_connected(net, 1024, scope='fc3')\n",
    "        net = slim.dropout(net, dropout_keep_prob, is_training=is_training,\n",
    "                           scope='dropout3')\n",
    "        logits = slim.fully_connected(net, num_classes, activation_fn=None,\n",
    "                                      scope='fc4')\n",
    "\n",
    "        end_points['Logits'] = logits\n",
    "        end_points['Predictions'] = prediction_fn(logits, scope='Predictions')\n",
    "\n",
    "        return logits, end_points\n",
    "lenet.default_image_size = 28\n",
    "\n",
    "\n",
    "def lenet_arg_scope(weight_decay=0.0):\n",
    "  \n",
    "  with slim.arg_scope(\n",
    "      [slim.conv2d, slim.fully_connected],\n",
    "      weights_regularizer=slim.l2_regularizer(weight_decay),\n",
    "      weights_initializer=tf.truncated_normal_initializer(stddev=0.1),\n",
    "      activation_fn=tf.nn.relu) as sc:\n",
    "    return sc"
   ]
  },
  {
   "cell_type": "code",
   "execution_count": null,
   "metadata": {
    "collapsed": true
   },
   "outputs": [],
   "source": []
  }
 ],
 "metadata": {
  "kernelspec": {
   "display_name": "Python 2",
   "language": "python",
   "name": "python2"
  },
  "language_info": {
   "codemirror_mode": {
    "name": "ipython",
    "version": 2
   },
   "file_extension": ".py",
   "mimetype": "text/x-python",
   "name": "python",
   "nbconvert_exporter": "python",
   "pygments_lexer": "ipython2",
   "version": "2.7.13"
  }
 },
 "nbformat": 4,
 "nbformat_minor": 2
}
