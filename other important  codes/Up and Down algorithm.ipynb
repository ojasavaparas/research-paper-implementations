{
 "cells": [
  {
   "cell_type": "code",
   "execution_count": 2,
   "metadata": {
    "collapsed": false
   },
   "outputs": [],
   "source": [
    "#this is a pseudo code\n",
    "# /based on the paper \"A Fast Learning Algorithm for Deep Belief Nets\" by Geoffrey E. Hinton,\n",
    "#  Simon Osindero,Yee-Whye Teh*/"
   ]
  },
  {
   "cell_type": "code",
   "execution_count": 9,
   "metadata": {
    "collapsed": true
   },
   "outputs": [],
   "source": [
    "import tensorflow as tf\n",
    "import numpy as np"
   ]
  },
  {
   "cell_type": "code",
   "execution_count": 10,
   "metadata": {
    "collapsed": true
   },
   "outputs": [],
   "source": [
    "#model: lab <--> top <--> pen --> hid --> vis"
   ]
  },
  {
   "cell_type": "code",
   "execution_count": 12,
   "metadata": {
    "collapsed": false
   },
   "outputs": [],
   "source": [
    "def up_down():\n",
    "    \n",
    "    wakehidprobs = tf.contrib.distributions.logistic(data*vishid + hidrecbiases)\n",
    "    wakehidstates = wakehidprobs > rand(1, numhid)\n",
    "    wakepenprobs = tf.contrib.distributions.logistic(wakehidstates*hidpen + penrecbiases)\n",
    "    wakepenstates = wakepenprobs > rand(1, numpen)\n",
    "    wakeopprobs = tf.contrib.distributions.logistic(wakepenstates*pentop+targets*labtop+topbiases)\n",
    "    wakeopstates = wakeopprobs > rand(1, numtop)\n",
    "    \n",
    "    poslabtopstatistics = (tf.transpose(targets)) * waketopstates\n",
    "    pospentopstatistics = (tf.transpose(wakepenstates)) * waketopstates\n",
    "    \n",
    "    negtopstates = waketopstates\n",
    "    for _ in range(numCDiters):\n",
    "        \n",
    "        negpenprobs = tf.contrib.distributions.logistic(negtopstates*(tf.transpose(pentop)) + pengenbiases)\n",
    "        negpenstates = negpenprobs > rand(1, numpen)\n",
    "        neglabprobs = tf.nn.softmax(negtopstates*(tf.transpose(labtop)) + labgenbiases)\n",
    "        negtopprobs = tf.contrib.distributions.logistic(negpenstates*pentop+neglabprobs*labtop+topbiases)\n",
    "        negtopstates = negtopprobs > rand(1, numtop)\n",
    "        \n",
    "    negpentopstatistics = (tf.transpose(negpenstates))*negtopstates\n",
    "    neglabtopstatistics = (tf.transpose(neglabprobs))*negtopstates\n",
    "    \n",
    "    sleeppenstates = negpenstates\n",
    "    sleephidprobs = tf.contrib.distributions.logistic(sleeppenstates*penhid + hidgenbiases)\n",
    "    sleephidstates = sleephidprobs > rand(1, numhid)\n",
    "    sleepvisprobs = tf.contrib.distributions.logistic(sleephidstates*hidvis + visgenbiases)\n",
    "    \n",
    "    psleeppenstates = tf.contrib.distributions.logistic(sleephidstates*hidpen + penrecbiases)\n",
    "    psleephidstates = tf.contrib.distributions.logistic(sleepvisprobs*vishid + hidrecbiases)\n",
    "    pvisprobs = tf.contrib.distributions.logistic(wakehidstates*hidvis + visgenbiases)\n",
    "    phidprobs = tf.contrib.distributions.logistic(wakepenstates*penhid + hidgenbiases)\n",
    "    \n",
    "    hidvis = hidvis + r*(tf.transpose(poshidstates))*(tf.subtract(data,pvisprobs))\n",
    "    \n",
    "    visgenbiases = visgenbiases + r*tf.subtract(data,pvisprobs)\n",
    "    penhid = penhid + r*tf.transpose(wakepenstates)*tf.subtract(wakehidstates,phidprobs)\n",
    "    hidgenbiases = hidgenbiases + r*tf.subtract(wakehidstates,phidprobs)\n",
    "    \n",
    "    labtop = labtop + r*tf.subtract(poslabtopstatistics,neglabtopstatistics)\n",
    "    labgenbiases = labgenbiases + r*tf.subtract(targets,neglabprobs)\n",
    "    pentop = pentop + r*tf.subtract(pospentopstatistics,negpentopstatistics)\n",
    "    pengenbiases = pengenbiases + r*tf.subtract(wakepenstates,negpenstates)\n",
    "    topbiases = topbiases + r*tf.subtract(waketopstates,negtopstates)\n",
    "    hidpen = hidpen + r*(tf.transpose(sleephidstates)*tf.subtract(sleeppenstates,psleeppenstates))\n",
    "    penrecbiases = penrecbiases + r*tf.subtract(sleeppenstates,psleeppenstates)\n",
    "    vishid = vishid + r*(tf.transpose(sleepvisprobs)*tf.subtract(sleephidstates,psleephidstates))\n",
    "    hidrecbiases = hidrecbiases + r*tf.subtract(sleephidstates,opsleephidstates)\n"
   ]
  },
  {
   "cell_type": "code",
   "execution_count": null,
   "metadata": {
    "collapsed": true
   },
   "outputs": [],
   "source": []
  }
 ],
 "metadata": {
  "kernelspec": {
   "display_name": "Python 2",
   "language": "python",
   "name": "python2"
  },
  "language_info": {
   "codemirror_mode": {
    "name": "ipython",
    "version": 2
   },
   "file_extension": ".py",
   "mimetype": "text/x-python",
   "name": "python",
   "nbconvert_exporter": "python",
   "pygments_lexer": "ipython2",
   "version": "2.7.13"
  }
 },
 "nbformat": 4,
 "nbformat_minor": 2
}
